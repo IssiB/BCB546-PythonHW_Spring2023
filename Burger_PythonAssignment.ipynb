{
 "cells": [
  {
   "cell_type": "markdown",
   "id": "205a42a4",
   "metadata": {},
   "source": [
    "# Python Script"
   ]
  },
  {
   "cell_type": "markdown",
   "id": "fdf2dad3",
   "metadata": {},
   "source": [
    "#### installing biopython"
   ]
  },
  {
   "cell_type": "code",
   "execution_count": null,
   "id": "79a7a4fc",
   "metadata": {
    "scrolled": false
   },
   "outputs": [],
   "source": [
    "conda install biopython"
   ]
  },
  {
   "cell_type": "markdown",
   "id": "5ac8702b",
   "metadata": {},
   "source": [
    "#### importing necessary packages"
   ]
  },
  {
   "cell_type": "code",
   "execution_count": null,
   "id": "7736166f",
   "metadata": {},
   "outputs": [],
   "source": [
    "from Bio import SeqIO\n",
    "from Bio.Data import CodonTable\n",
    "import pandas as pd\n",
    "from Bio.Seq import Seq"
   ]
  },
  {
   "cell_type": "markdown",
   "id": "78700783",
   "metadata": {},
   "source": [
    "#### #1"
   ]
  },
  {
   "cell_type": "code",
   "execution_count": null,
   "id": "ed9c169e",
   "metadata": {},
   "outputs": [],
   "source": [
    "def get_sequences_from_file(fasta_fn): #defining a function titled \"get_sequences_from_file\"\n",
    "    sequence_data_dict = {} #creating a dictionary \n",
    "    for record in SeqIO.parse(fasta_fn, \"fasta\"): #obtaining sequences in file fasta_fn and beginning a for loop that loops through each value \"record\"\n",
    "        description = record.description.split() #splitting descriptions string in record into different lists based on spaces\n",
    "        species_name = description[1] + \" \" + description[2] #adding new list titled \"species name\" that consists of index 1 and 2 of \"description\"\n",
    "        sequence_data_dict[species_name] = record.seq #sets species name as key and record.seq as value\n",
    "    return(sequence_data_dict) #this returns the dictionary made by the above code "
   ]
  },
  {
   "cell_type": "markdown",
   "id": "910847cd",
   "metadata": {},
   "source": [
    "#### #2"
   ]
  },
  {
   "cell_type": "code",
   "execution_count": null,
   "id": "309755a0",
   "metadata": {},
   "outputs": [],
   "source": [
    "def translate_function(string_nucleotides): #defining a function titled \"translate_function\"\n",
    "    mito_table = CodonTable.unambiguous_dna_by_name[\"Vertebrate Mitochondrial\"] #creating a list title \"mito_table\" from the vetebrate mitochondrial codon table\n",
    "    aa_seq_string = \"\" #creating an empty string\n",
    "    for x in range(0, len(string_nucleotides),3): #looping through \"string_nucleotides\" at every 3rd item\n",
    "        codon = seq[i:i +3] #separating out the codons. each codon is 3 units long\n",
    "        if codon in mito_stable.stop_codons: #if the codon ends in a stop codon, stop the for loop\n",
    "            break\n",
    "        else:\n",
    "            aa = mito_table.forward_table[codon] #defines amino acid based on codon table\n",
    "            aa_seq_string += aa #adds aa to aa_seq_string \n",
    "        return aa_seq_string #returns the aa_seq_string\n",
    "            \n",
    "            \n",
    "#I used this website : https://www.geeksforgeeks.org/dna-protein-python-3/ \n",
    " #to help with the above code"
   ]
  },
  {
   "cell_type": "markdown",
   "id": "9be3419e",
   "metadata": {},
   "source": [
    "#### #3"
   ]
  },
  {
   "cell_type": "code",
   "execution_count": null,
   "id": "3799c5d1",
   "metadata": {},
   "outputs": [],
   "source": [
    "def different_translate_function(string_nucleotides): #defining a function titled \"different_translate_function\"\n",
    "    mito_table = CodonTable.unambiguous_dna_by_name[\"Vertebrate Mitochondrial\"] #creating \"mito_table\" from the vetebrate mitochondrial codon table\n",
    "    my_seq = Seq(string_nucleotides) #creating a seq object of my string of nucleotides\n",
    "    aa_seq_string = my_seq.translate(table = mito_table, to_stop=True) #translating nucleotides from \"my_seq\" using mito_table and breaking the loop for stop codons\n",
    "    return(aa_seq_string) #returns aa_seq_string\n",
    "\n",
    "#I used this website:https://biopython.org/docs/1.75/api/Bio.Seq.html\n",
    "#to help with this code"
   ]
  },
  {
   "cell_type": "markdown",
   "id": "712c98b0",
   "metadata": {},
   "source": [
    "#### #4\n"
   ]
  },
  {
   "cell_type": "code",
   "execution_count": null,
   "id": "a06d94e9",
   "metadata": {},
   "outputs": [],
   "source": [
    "#importing necessary packages for the follwoing code \n",
    "from Bio.SeqUtils.ProtParam import ProteinAnalysis"
   ]
  },
  {
   "cell_type": "code",
   "execution_count": null,
   "id": "b316bc01",
   "metadata": {},
   "outputs": [],
   "source": [
    "def compute_molecular_weight(aa_seq): #defining a function titled compute_molecular_weight\n",
    "    aa_seq_string = str(aa_seq) #turns aa_seq into a string\n",
    "    protein = ProteinAnalysis(aa_seq_string) #creates a protein sequence\n",
    "    molecular_weight = protein.molecular_weight() #calculatres molecular weight from protein sequence\n",
    "    return molecular_weight #returns molecular weight\n",
    "\n",
    "#I used this website: https://biopython.org/docs/1.76/api/Bio.SeqUtils.ProtParam.html\n",
    "#to help with the code. "
   ]
  },
  {
   "cell_type": "markdown",
   "id": "e533899a",
   "metadata": {},
   "source": [
    "#### #5"
   ]
  },
  {
   "cell_type": "code",
   "execution_count": null,
   "id": "2c6ec236",
   "metadata": {},
   "outputs": [],
   "source": [
    "def calculate_gc_content(string_nucleotides): #defines function titled calculate_gc_content\n",
    "    gc = string_nucleotides.count(\"G\") + string_nucleotides.count(\"C\") #counts the number of times \"g\" and \"c\" appear\n",
    "    seq_length = len(string_nucleotides) #the length of string_nucleotides\n",
    "    gc_content = gc/seq_length #calculates the proportion of G and C \n",
    "    return gc_content #returns gc content"
   ]
  },
  {
   "cell_type": "markdown",
   "id": "9900cce3",
   "metadata": {},
   "source": [
    "#### main part of code"
   ]
  },
  {
   "cell_type": "code",
   "execution_count": null,
   "id": "02b4e25d",
   "metadata": {},
   "outputs": [],
   "source": [
    "cytb_seqs = get_sequences_from_file(\"penguins_cytb.fasta\") #uses above function \"get_sequences_from_file\" to get sequences from this file\n",
    "penguins_df = pd.read_csv(\"penguins_mass.csv\") # Includes only data for body mass \n",
    "species_list = list(penguins_df.species) #turning species into a list"
   ]
  },
  {
   "cell_type": "markdown",
   "id": "08dc63d2",
   "metadata": {},
   "source": [
    "#### #6"
   ]
  },
  {
   "cell_type": "code",
   "execution_count": null,
   "id": "a1e7075e",
   "metadata": {},
   "outputs": [],
   "source": [
    "penguins_df[\"Molecular_Weight\"] = 'NaN' #adds an empty column titled \"molecular weight\" filled with NaN values\n",
    "penguins_df[\"GC_Content\"] = 'NaN' #adds an empty column titled \"gc_content\" filled with NaN values\n",
    "\n",
    "penguins_df\n",
    "\n",
    "#I used this website: https://www.geeksforgeeks.org/how-to-add-empty-column-to-dataframe-in-pandas/\n",
    "#to help with this code"
   ]
  },
  {
   "cell_type": "markdown",
   "id": "25756fab",
   "metadata": {},
   "source": [
    "#### #7"
   ]
  },
  {
   "cell_type": "code",
   "execution_count": null,
   "id": "7d2fb0ba",
   "metadata": {},
   "outputs": [],
   "source": [
    "gc_content_penguins = [] #creates an empty list\n",
    "molecular_weight_penguins = [] #creates an empty list\n",
    "aa_seq_list = [] #creates an empty list\n",
    "\n",
    "for species_name, sequence in cytb_seqs.items():\n",
    "    sequence_string = str(sequence) #turns sequence into a string\n",
    "    aa_seq = different_translate_function(sequence_string) #translates the string \n",
    "    gc_content_penguins.append(calculate_gc_content(sequence_string)) #calculates gc content and adds to gc_content list\n",
    "    molecular_weight_penguins.append(compute_molecular_weight(sequence_string)) #calculates molecular weight and adds to molecular weight list\n",
    "\n",
    "\n",
    "penguins_df_2 = penguins_df.assign(GC_Content = gc_content_penguins, Molecular_Weight = molecular_weight_penguins) #assigns the lists to column names in penguin dataframe\n",
    "penguins_df_2\n",
    "\n",
    "#I used this website to figure out how to append data to a list: https://stackoverflow.com/questions/56321765/append-values-from-dataframe-column-to-list\n",
    "#and this one to assign the lists to the data frame: https://www.geeksforgeeks.org/python-pandas-dataframe-assign/#"
   ]
  },
  {
   "cell_type": "markdown",
   "id": "0000d3d4",
   "metadata": {},
   "source": [
    "#### #8"
   ]
  },
  {
   "cell_type": "code",
   "execution_count": null,
   "id": "afe0b65f",
   "metadata": {},
   "outputs": [],
   "source": [
    "conda install seaborn #installing seaborn for figures"
   ]
  },
  {
   "cell_type": "code",
   "execution_count": null,
   "id": "1664e5d0",
   "metadata": {},
   "outputs": [],
   "source": [
    "import matplotlib.pyplot as plt #importing necessary packages\n",
    "import seaborn as sns"
   ]
  },
  {
   "cell_type": "code",
   "execution_count": null,
   "id": "4a4f3ecc",
   "metadata": {},
   "outputs": [],
   "source": [
    "#bar chart of the mass with x axis labeled as species names\n",
    "plt.bar(\"species\",\"mass\", data = penguins_df_2, color = \"purple\") #this makes the bar plot, specifying mass on the y axis, species on the x axis, and a purple graph\n",
    "plt.xlabel(\"Species\") #adds title for x axis\n",
    "plt.ylabel(\"Mass(g)\") #adds title for y axis\n",
    "plt.title(\"Mass by Species\") #adds title for graph\n",
    "plt.xticks(rotation = 90) #rotates species names on x axis\n",
    "\n",
    "#I used these two websites to help make the graph: https://www.geeksforgeeks.org/bar-plot-in-matplotlib/\n",
    "#and https://stackoverflow.com/questions/10998621/rotate-axis-text-in-matplotlib"
   ]
  },
  {
   "cell_type": "markdown",
   "id": "7cdd17ab",
   "metadata": {},
   "source": [
    "Q1: What is the smallest penguins species?\n",
    "A1: Eudyptula minor"
   ]
  },
  {
   "cell_type": "markdown",
   "id": "32d6682c",
   "metadata": {},
   "source": [
    "Q2: What is the geographical range of this species?\n",
    "A1: This species is found throughout the southern coast of Australia and as far north as South Solitary Island. They are also found on New Zealand and the Chatham Islands.\n",
    "\n",
    "source:\n",
    "Hoskins, A. J., Dann, P., Ropert-Coudert, Y., Kato, A., Chiaradia, A., Costa, D. P., & Arnould, J. P. Y. (2008). Foraging behaviour and habitat selection of the little penguin Eudyptula minor during early chick rearing in Bass Strait, Australia. Marine Ecology Progress Series, 366, 293–303. http://www.jstor.org/stable/24872877 "
   ]
  },
  {
   "cell_type": "markdown",
   "id": "838b78fb",
   "metadata": {},
   "source": [
    "#### #9"
   ]
  },
  {
   "cell_type": "code",
   "execution_count": null,
   "id": "85c611eb",
   "metadata": {},
   "outputs": [],
   "source": [
    "#plot of molecular weight (y-axis) and GC content (x-axis)\n",
    "sns.lmplot(x = \"GC_Content\", y = \"Molecular_Weight\", data = penguins_df_2,\n",
    "          markers = \"D\")\n"
   ]
  },
  {
   "cell_type": "markdown",
   "id": "a793f8cb",
   "metadata": {},
   "source": [
    "#### #10"
   ]
  },
  {
   "cell_type": "code",
   "execution_count": null,
   "id": "726b39d4",
   "metadata": {},
   "outputs": [],
   "source": [
    "penguins_df_2.to_csv('penguins_mass_cytb.csv', index=False) #saving new data frame to a csv file\n",
    "\n",
    "#I used this website to help with the code: https://datatofish.com/export-dataframe-to-csv/"
   ]
  },
  {
   "cell_type": "markdown",
   "id": "33205a7a",
   "metadata": {},
   "source": [
    "#### #11"
   ]
  },
  {
   "cell_type": "code",
   "execution_count": null,
   "id": "b021db86",
   "metadata": {},
   "outputs": [],
   "source": [
    "#bonus figure!\n",
    "\n",
    "sns.lmplot(x = \"mass\", y = \"GC_Content\", data = penguins_df_2,\n",
    "          markers = \"D\", fit_reg = False)"
   ]
  },
  {
   "cell_type": "code",
   "execution_count": null,
   "id": "a08ca732",
   "metadata": {},
   "outputs": [],
   "source": [
    "#pushing to github!"
   ]
  }
 ],
 "metadata": {
  "kernelspec": {
   "display_name": "Python 3 (ipykernel)",
   "language": "python",
   "name": "python3"
  },
  "language_info": {
   "codemirror_mode": {
    "name": "ipython",
    "version": 3
   },
   "file_extension": ".py",
   "mimetype": "text/x-python",
   "name": "python",
   "nbconvert_exporter": "python",
   "pygments_lexer": "ipython3",
   "version": "3.9.13"
  }
 },
 "nbformat": 4,
 "nbformat_minor": 5
}
